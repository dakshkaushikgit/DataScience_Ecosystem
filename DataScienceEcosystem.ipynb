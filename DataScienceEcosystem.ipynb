{
 "cells": [
  {
   "cell_type": "markdown",
   "id": "cb629311-f674-4e1c-bba4-93ff8060024c",
   "metadata": {},
   "source": [
    "# Data Science Tools and Ecosystem"
   ]
  },
  {
   "cell_type": "markdown",
   "id": "b2468a47-1a5e-42dc-96d6-41457bfb7d9b",
   "metadata": {},
   "source": [
    "In this notebook, Data Science Tools and Ecosystem are summarized. "
   ]
  },
  {
   "cell_type": "markdown",
   "id": "95c0194c-b36e-4bff-bf1d-2d462ccc81ec",
   "metadata": {},
   "source": [
    "**Objectives:**\n",
    "- list popular languages for data science\n",
    "- list popular libraries used in data science\n",
    "- list data science tools\n",
    "- arithmetic operations in python with examples\n",
    "  \n"
   ]
  },
  {
   "cell_type": "markdown",
   "id": "5033deff-d81f-4958-bea0-02bd2dbacdf8",
   "metadata": {},
   "source": [
    "## Exercise 1: Create a Jupyter Notebook"
   ]
  },
  {
   "cell_type": "markdown",
   "id": "249a1887-bd7f-4b2d-bd43-9801a1f9973b",
   "metadata": {},
   "source": [
    "Create a new Jupyter notebook called DataScienceEcosystem.ipynb"
   ]
  },
  {
   "cell_type": "markdown",
   "id": "a96ffc51-1ef1-4e21-886d-52a5ed25527f",
   "metadata": {},
   "source": [
    "## Exercise 2: Create a markdown cell to list data science languages "
   ]
  },
  {
   "cell_type": "markdown",
   "id": "54e52e35-a702-4bba-9234-d0e8423527c2",
   "metadata": {},
   "source": [
    "some of the popular languages that data scientists use are: \n",
    "1. Python\n",
    "2. R\n",
    "3. SQL"
   ]
  },
  {
   "cell_type": "markdown",
   "id": "fa2713e8-d581-4455-8fa2-5fdc2e19fe84",
   "metadata": {},
   "source": [
    "## Exercise 3 - Create a markdown cell to list data science libraries"
   ]
  },
  {
   "cell_type": "markdown",
   "id": "528fe1de-7dbf-44e6-a95f-722d5e1f5cf1",
   "metadata": {},
   "source": [
    "Some of the commonly used libraries used by Data Scientists include: \n",
    "1. matplotlib\n",
    "2. numpy\n",
    "3. pandas\n",
    "   "
   ]
  },
  {
   "cell_type": "markdown",
   "id": "47f47c1e-ce33-42c9-9649-6d8a11ad6792",
   "metadata": {},
   "source": [
    "## Exercise 4 - Create a markdown cell with a table of Data Science tools "
   ]
  },
  {
   "cell_type": "markdown",
   "id": "e16e36d9-bdac-488b-b434-5cb798e8fba8",
   "metadata": {},
   "source": [
    "| Data Science Tools | \n",
    "| :----------------: |\n",
    "| Jupyter |\n",
    "| R studio |\n",
    "| Apache Spark | \n"
   ]
  },
  {
   "cell_type": "markdown",
   "id": "acfdf488-c8f4-4427-9b29-98a502eb45b1",
   "metadata": {},
   "source": [
    "## Exercise 5 - Create a markdown cell introducing arithmetic expression examples "
   ]
  },
  {
   "cell_type": "markdown",
   "id": "2ee1156f-8fd3-4b55-8c9d-1979e84d644a",
   "metadata": {},
   "source": [
    " _Below are a few examples of evaluating arithmetic expressions in Python_"
   ]
  },
  {
   "cell_type": "markdown",
   "id": "fa09db79-5aa7-4fe9-aa40-03ac2827bebb",
   "metadata": {},
   "source": [
    "Exponentiation\n",
    "--"
   ]
  },
  {
   "cell_type": "code",
   "execution_count": 14,
   "id": "f77e6a6f-ad31-4951-9688-55d7ceca14fc",
   "metadata": {},
   "outputs": [
    {
     "data": {
      "text/plain": [
       "8"
      ]
     },
     "execution_count": 14,
     "metadata": {},
     "output_type": "execute_result"
    }
   ],
   "source": [
    "2 ** 3"
   ]
  },
  {
   "cell_type": "code",
   "execution_count": 16,
   "id": "b387ac2c-f1a8-4d96-b5aa-5e8a3e36a1c7",
   "metadata": {},
   "outputs": [
    {
     "data": {
      "text/plain": [
       "243"
      ]
     },
     "execution_count": 16,
     "metadata": {},
     "output_type": "execute_result"
    }
   ],
   "source": [
    "3 ** 5"
   ]
  },
  {
   "cell_type": "code",
   "execution_count": 18,
   "id": "f797548c-fde7-4abc-aabf-77a821e2e298",
   "metadata": {},
   "outputs": [
    {
     "data": {
      "text/plain": [
       "0.125"
      ]
     },
     "execution_count": 18,
     "metadata": {},
     "output_type": "execute_result"
    }
   ],
   "source": [
    "2 ** -3"
   ]
  },
  {
   "cell_type": "code",
   "execution_count": 20,
   "id": "a9446b4e-42e5-4d6b-8183-1a57f13b2300",
   "metadata": {},
   "outputs": [
    {
     "data": {
      "text/plain": [
       "5.913163799142744"
      ]
     },
     "execution_count": 20,
     "metadata": {},
     "output_type": "execute_result"
    }
   ],
   "source": [
    "1.6783 ** 3.4323"
   ]
  },
  {
   "cell_type": "markdown",
   "id": "f8002a9a-cce1-4eb9-863e-6db906153d89",
   "metadata": {},
   "source": [
    "If both operands to an exponentiation operation are integers and the answer is an integer, then it will be expressed as one. If both operands are integers but the answer isn't, then the answer will be expressed as a real number with decimals. As the examples above illustrate, if an exponent b is negative, then ab is defined as 1/a-b. (Technically, this rule is true for all exponents, not just negative ones.)\n",
    "\n",
    "Integer division (/ /)\n",
    "--\n",
    "Python provides a second division operator, //, which performs integer division. In particular, the answer of an integer division operation is always an integer. In particular, a//b is defined as the largest number of whole times b divides into a. Here are a few examples of evaluating expressions with integer division:"
   ]
  },
  {
   "cell_type": "code",
   "execution_count": 27,
   "id": "0707fdf5-0ced-475d-9a31-8b7e0d0acace",
   "metadata": {},
   "outputs": [
    {
     "data": {
      "text/plain": [
       "-1"
      ]
     },
     "execution_count": 27,
     "metadata": {},
     "output_type": "execute_result"
    }
   ],
   "source": [
    "-17 // 18"
   ]
  },
  {
   "cell_type": "code",
   "execution_count": 29,
   "id": "e9572ff1-877c-41d1-9948-888f86f57eaa",
   "metadata": {},
   "outputs": [
    {
     "data": {
      "text/plain": [
       "-3"
      ]
     },
     "execution_count": 29,
     "metadata": {},
     "output_type": "execute_result"
    }
   ],
   "source": [
    "-13 // 6"
   ]
  },
  {
   "cell_type": "code",
   "execution_count": 31,
   "id": "e6f908be-ba7e-4026-8c8c-491333dd908f",
   "metadata": {},
   "outputs": [
    {
     "data": {
      "text/plain": [
       "2"
      ]
     },
     "execution_count": 31,
     "metadata": {},
     "output_type": "execute_result"
    }
   ],
   "source": [
    "13 // 6"
   ]
  },
  {
   "cell_type": "code",
   "execution_count": 33,
   "id": "ccba74d1-d309-4132-9e50-df360755062e",
   "metadata": {},
   "outputs": [
    {
     "data": {
      "text/plain": [
       "-7"
      ]
     },
     "execution_count": 33,
     "metadata": {},
     "output_type": "execute_result"
    }
   ],
   "source": [
    "-25 // 4"
   ]
  },
  {
   "cell_type": "code",
   "execution_count": 35,
   "id": "8e83b2b6-6fa1-4a1c-bcff-243c2986a077",
   "metadata": {},
   "outputs": [
    {
     "data": {
      "text/plain": [
       "6"
      ]
     },
     "execution_count": 35,
     "metadata": {},
     "output_type": "execute_result"
    }
   ],
   "source": [
    "25 // 4"
   ]
  },
  {
   "cell_type": "code",
   "execution_count": 38,
   "id": "4b9a5a79-f915-4ae5-b456-26fb3f7a0fdc",
   "metadata": {},
   "outputs": [
    {
     "data": {
      "text/plain": [
       "-5"
      ]
     },
     "execution_count": 38,
     "metadata": {},
     "output_type": "execute_result"
    }
   ],
   "source": [
    "25 // -6"
   ]
  },
  {
   "cell_type": "code",
   "execution_count": 40,
   "id": "13e65d79-a81f-4c62-9dcd-86ee9f614ce7",
   "metadata": {},
   "outputs": [
    {
     "data": {
      "text/plain": [
       "4"
      ]
     },
     "execution_count": 40,
     "metadata": {},
     "output_type": "execute_result"
    }
   ],
   "source": [
    "25 // 6"
   ]
  },
  {
   "cell_type": "code",
   "execution_count": 42,
   "id": "36b4d8f8-c6e0-426c-8cef-679991243b85",
   "metadata": {},
   "outputs": [
    {
     "data": {
      "text/plain": [
       "4.166666666666667"
      ]
     },
     "execution_count": 42,
     "metadata": {},
     "output_type": "execute_result"
    }
   ],
   "source": [
    "25 / 6"
   ]
  },
  {
   "cell_type": "code",
   "execution_count": 44,
   "id": "2989da6d-aedc-4dee-9f04-6ec47cfe7aab",
   "metadata": {},
   "outputs": [
    {
     "data": {
      "text/plain": [
       "0"
      ]
     },
     "execution_count": 44,
     "metadata": {},
     "output_type": "execute_result"
    }
   ],
   "source": [
    "199 // 200"
   ]
  },
  {
   "cell_type": "markdown",
   "id": "1f5f9703-a8f4-427c-bb67-74f347c1d70e",
   "metadata": {},
   "source": [
    "Modulous (%) \n",
    "---"
   ]
  },
  {
   "cell_type": "markdown",
   "id": "598ae875-1d48-40ff-b232-1bb5637fcdeb",
   "metadata": {},
   "source": [
    "a % b evaluates to a - (a // b)*b."
   ]
  },
  {
   "cell_type": "code",
   "execution_count": 47,
   "id": "bf582b64-6022-4db8-bc63-5e9508abdebc",
   "metadata": {},
   "outputs": [
    {
     "data": {
      "text/plain": [
       "2"
      ]
     },
     "execution_count": 47,
     "metadata": {},
     "output_type": "execute_result"
    }
   ],
   "source": [
    "17 % 3"
   ]
  },
  {
   "cell_type": "code",
   "execution_count": 49,
   "id": "35cbb97f-8e75-4e89-a9c4-fe9e6d4f1bce",
   "metadata": {},
   "outputs": [
    {
     "data": {
      "text/plain": [
       "-5"
      ]
     },
     "execution_count": 49,
     "metadata": {},
     "output_type": "execute_result"
    }
   ],
   "source": [
    "25 % -6"
   ]
  },
  {
   "cell_type": "code",
   "execution_count": 51,
   "id": "3d1b64dd-3ee4-4596-9f58-5f51a0862750",
   "metadata": {},
   "outputs": [
    {
     "data": {
      "text/plain": [
       "199"
      ]
     },
     "execution_count": 51,
     "metadata": {},
     "output_type": "execute_result"
    }
   ],
   "source": [
    "199 % 200"
   ]
  },
  {
   "cell_type": "code",
   "execution_count": 53,
   "id": "f698f194-315b-47cc-be2c-a63a08bb6faf",
   "metadata": {},
   "outputs": [
    {
     "data": {
      "text/plain": [
       "0.20000000000000018"
      ]
     },
     "execution_count": 53,
     "metadata": {},
     "output_type": "execute_result"
    }
   ],
   "source": [
    "6.4 % 3.1"
   ]
  },
  {
   "cell_type": "markdown",
   "id": "a4b9aee8-a5a5-49d8-8cfd-84fa17194d2d",
   "metadata": {},
   "source": [
    "##  Exercise 6 - Create a code cell to multiply and add numbers"
   ]
  },
  {
   "cell_type": "code",
   "execution_count": 61,
   "id": "666be752-9612-4583-8280-91606af3b0e8",
   "metadata": {},
   "outputs": [],
   "source": [
    "#This a simple arithmetic expression to mutiply then add integers"
   ]
  },
  {
   "cell_type": "code",
   "execution_count": 57,
   "id": "f37187ae-0361-441b-a2b2-8207551ac7f6",
   "metadata": {},
   "outputs": [
    {
     "data": {
      "text/plain": [
       "17"
      ]
     },
     "execution_count": 57,
     "metadata": {},
     "output_type": "execute_result"
    }
   ],
   "source": [
    "(3*4)+5"
   ]
  },
  {
   "cell_type": "markdown",
   "id": "f4c75c2a-86b7-4132-8b54-b32b698ed559",
   "metadata": {},
   "source": [
    "## Exercise 7 - Create a code cell to convert minutes to hours"
   ]
  },
  {
   "cell_type": "code",
   "execution_count": 87,
   "id": "bc0eac0e-9341-4b05-944a-a4d1a07ce6d9",
   "metadata": {},
   "outputs": [],
   "source": [
    "#This will convert 200 minutes to hours by diving by 60\n",
    "#The f efers to a formatted string literal, also known as an f-string.\n",
    "# :.2f: Format the number as a floating-point value with 2 decimal places."
   ]
  },
  {
   "cell_type": "code",
   "execution_count": 75,
   "id": "122eff00-700b-4846-acde-17ef8deaf61b",
   "metadata": {},
   "outputs": [
    {
     "name": "stdout",
     "output_type": "stream",
     "text": [
      "3.3333333333333335 hours.\n"
     ]
    }
   ],
   "source": [
    "print (f\"{200/60} hours.\")"
   ]
  },
  {
   "cell_type": "code",
   "execution_count": 81,
   "id": "e9058462-f7a6-4302-ac11-c99cca6f7d8c",
   "metadata": {},
   "outputs": [
    {
     "name": "stdout",
     "output_type": "stream",
     "text": [
      "3.33 hours.\n"
     ]
    }
   ],
   "source": [
    "print (f\"{200/60:.2f} hours.\")"
   ]
  },
  {
   "cell_type": "markdown",
   "id": "cfb7f739-812e-4e00-8719-398da69a86c4",
   "metadata": {},
   "source": [
    "## Author \n",
    "__Daksh__ "
   ]
  }
 ],
 "metadata": {
  "kernelspec": {
   "display_name": "Python 3 (ipykernel)",
   "language": "python",
   "name": "python3"
  },
  "language_info": {
   "codemirror_mode": {
    "name": "ipython",
    "version": 3
   },
   "file_extension": ".py",
   "mimetype": "text/x-python",
   "name": "python",
   "nbconvert_exporter": "python",
   "pygments_lexer": "ipython3",
   "version": "3.12.4"
  }
 },
 "nbformat": 4,
 "nbformat_minor": 5
}
